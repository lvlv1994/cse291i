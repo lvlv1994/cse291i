{
 "cells": [
  {
   "cell_type": "code",
   "execution_count": 1,
   "metadata": {},
   "outputs": [
    {
     "name": "stderr",
     "output_type": "stream",
     "text": [
      "/Users/chunyilyu/anaconda2/envs/pyntcloud/lib/python3.6/site-packages/h5py/__init__.py:36: FutureWarning: Conversion of the second argument of issubdtype from `float` to `np.floating` is deprecated. In future, it will be treated as `np.float64 == np.dtype(float).type`.\n",
      "  from ._conv import register_converters as _register_converters\n"
     ]
    }
   ],
   "source": [
    "import numpy as np\n",
    "#import tensorflow as tf\n",
    "import utils\n",
    "#import pymesh\n",
    "from pyntcloud import PyntCloud\n",
    "import pandas as pd"
   ]
  },
  {
   "cell_type": "code",
   "execution_count": 2,
   "metadata": {},
   "outputs": [
    {
     "name": "stdout",
     "output_type": "stream",
     "text": [
      "<HDF5 dataset \"data\": shape (2048, 2048, 3), type \"<f4\">\n",
      "<HDF5 dataset \"data\": shape (2048, 2048, 3), type \"<f4\">\n",
      "<HDF5 dataset \"data\": shape (2048, 2048, 3), type \"<f4\">\n",
      "<HDF5 dataset \"data\": shape (2048, 2048, 3), type \"<f4\">\n",
      "<HDF5 dataset \"data\": shape (1648, 2048, 3), type \"<f4\">\n"
     ]
    }
   ],
   "source": [
    "train_cloud = []\n",
    "train_label = []\n",
    "dir_path = \"/Users/chunyilyu/pythoncode/cse291i/Homework3/modelnet40_ply_hdf5_2048/\"\n",
    "category_names = utils.get_category_names()\n",
    "\n",
    "def read_data(dir_path):\n",
    "    train_cloud = []\n",
    "    train_label = []\n",
    "    for i in range(0,5):\n",
    "        file_path = dir_path+ 'ply_data_train' + str(i) +'.h5'\n",
    "        train_data0 = utils.load_h5(file_path)\n",
    "        train_cloud.extend(np.array(train_data0[0]))\n",
    "        train_label.extend(np.array(train_data0[1]))\n",
    "\n",
    "    return np.array(train_cloud),np.array(train_label)\n",
    "\n",
    "train_cloud,train_label = read_data(dir_path)\n",
    " \n",
    "\n",
    "\n"
   ]
  },
  {
   "cell_type": "code",
   "execution_count": 10,
   "metadata": {},
   "outputs": [
    {
     "name": "stdout",
     "output_type": "stream",
     "text": [
      "monitor\n"
     ]
    }
   ],
   "source": [
    "names =  utils.get_category_names()"
   ]
  },
  {
   "cell_type": "code",
   "execution_count": 24,
   "metadata": {},
   "outputs": [
    {
     "data": {
      "text/html": [
       "\n",
       "        <iframe\n",
       "            width=\"800\"\n",
       "            height=\"500\"\n",
       "            src=\"pyntcloud_plot.html\"\n",
       "            frameborder=\"0\"\n",
       "            allowfullscreen\n",
       "        ></iframe>\n",
       "        "
      ],
      "text/plain": [
       "<IPython.lib.display.IFrame at 0x12028b4e0>"
      ]
     },
     "execution_count": 24,
     "metadata": {},
     "output_type": "execute_result"
    }
   ],
   "source": [
    "points = pd.DataFrame(train_cloud[7], columns=[\"x\", \"y\", \"z\"])\n",
    "cloud = PyntCloud(points)\n",
    "cloud.plot(lines=[], line_color=[])\n"
   ]
  },
  {
   "cell_type": "code",
   "execution_count": 23,
   "metadata": {},
   "outputs": [
    {
     "name": "stdout",
     "output_type": "stream",
     "text": [
      "range_hood\n"
     ]
    }
   ],
   "source": [
    "#print(train_label[4])\n",
    "print(names[train_label[6][0]])"
   ]
  },
  {
   "cell_type": "code",
   "execution_count": null,
   "metadata": {},
   "outputs": [],
   "source": []
  }
 ],
 "metadata": {
  "kernelspec": {
   "display_name": "Python 3",
   "language": "python",
   "name": "python3"
  },
  "language_info": {
   "codemirror_mode": {
    "name": "ipython",
    "version": 3
   },
   "file_extension": ".py",
   "mimetype": "text/x-python",
   "name": "python",
   "nbconvert_exporter": "python",
   "pygments_lexer": "ipython3",
   "version": "3.6.4"
  }
 },
 "nbformat": 4,
 "nbformat_minor": 2
}

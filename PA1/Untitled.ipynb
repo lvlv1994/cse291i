{
 "cells": [
  {
   "cell_type": "code",
   "execution_count": null,
   "metadata": {
    "collapsed": true
   },
   "outputs": [],
   "source": [
    "## Importing Libraries\n",
    "%matplotlib inline\n",
    "import matplotlib.pyplot as plt\n",
    "import tensorflow as tf\n",
    "import numpy as np\n",
    "from tensorflow.examples.tutorials.mnist import input_data"
   ]
  },
  {
   "cell_type": "code",
   "execution_count": null,
   "metadata": {
    "collapsed": true
   },
   "outputs": [],
   "source": [
    "\n"
   ]
  },
  {
   "cell_type": "code",
   "execution_count": null,
   "metadata": {
    "collapsed": true
   },
   "outputs": [],
   "source": [
    "def get_weight(shape):\n",
    "    initial = tf.truncated_normal(shape, stddev=0.01)\n",
    "    return tf.Variable(initial)\n",
    "def get_bias(shape):\n",
    "    initial = tf.constant(0.0, shape=shape)\n",
    "    return tf.Variable(initial)\n",
    "def get_layer():\n",
    "    return [200,100,10]"
   ]
  },
  {
   "cell_type": "code",
   "execution_count": null,
   "metadata": {
    "collapsed": true
   },
   "outputs": [],
   "source": [
    "#input\n",
    "x = tf.placeholder(tf.float32, [None, 784])\n",
    "#correct labels\n",
    "y_labels = tf.placeholder(tf.float32, [None, 10])\n",
    "#y = tf.placeholder(tf.int64, [None])\n",
    "#get layer\n",
    "layer1,layer2,layer3 = get_layer()\n",
    "#init weight and bias\n",
    "x_image = tf.reshape(x,[-1,784])\n",
    "W1 = get_weight([784,layer1])\n",
    "b1 = get_bias([layer1])\n",
    "\n",
    "W2 = get_weight([layer1,layer2])\n",
    "b2 = get_bias([layer2])\n",
    "\n",
    "W3 = get_weight([layer2,layer3])\n",
    "b3 = get_bias([layer3])\n",
    "\n",
    "#define model\n",
    "y1 = tf.nn.relu(tf.matmul(x_image, W1) + b1)\n",
    "\n",
    "\n",
    "y2 = tf.nn.relu(tf.matmul(y1, W2) + b2)\n",
    "\n",
    "y3 = tf.matmul(y2, W3) + b3\n",
    "output = tf.nn.softmax(y3)\n",
    "output_class = tf.argmax(output,axis=1)\n",
    "\n",
    "#Define loss function\n",
    "loss = tf.reduce_mean(tf.nn.softmax_cross_entropy_with_logits(logits = y3, labels = y_labels))\n",
    "\n",
    "#Accuracy\n",
    "correct_labels = tf.equal(tf.argmax(y3, 1), tf.argmax(y_labels, 1))\n",
    "accuracy = tf.reduce_mean(tf.cast(correct_labels, tf.float32))\n",
    "\n",
    "train_step = tf.train.AdamOptimizer(1e-4).minimize(loss)\n",
    "\n",
    "# create a saver\n",
    "saver = tf.train.Saver()\n",
    "\n",
    "# initialize the graph\n",
    "init = tf.global_variables_initializer()\n",
    "#sess = tf.Session()\n",
    "#sess.run(init)"
   ]
  },
  {
   "cell_type": "code",
   "execution_count": null,
   "metadata": {
    "collapsed": true
   },
   "outputs": [],
   "source": [
    "#input\n",
    "x = tf.placeholder(tf.float32, [None, 784])\n",
    "#correct labels\n",
    "y_labels = tf.placeholder(tf.float32, [None, 10])\n",
    "#y = tf.placeholder(tf.int64, [None])\n",
    "#get layer\n",
    "layer1,layer2,layer3 = get_layer()\n",
    "#init weight and bias\n",
    "x_image = tf.reshape(x,[-1,784])\n",
    "W1 = get_weight([784,layer1])\n",
    "b1 = get_bias([layer1])\n",
    "\n",
    "W2 = get_weight([layer1,layer2])\n",
    "b2 = get_bias([layer2])\n",
    "\n",
    "W3 = get_weight([layer2,layer3])\n",
    "b3 = get_bias([layer3])\n",
    "\n",
    "#define model\n",
    "y1 = tf.nn.relu(tf.matmul(x_image, W1) + b1)\n",
    "\n",
    "\n",
    "y2 = tf.nn.relu(tf.matmul(y1, W2) + b2)\n",
    "\n",
    "y3 = tf.matmul(y2, W3) + b3\n",
    "output = tf.nn.softmax(y3)\n",
    "output_class = tf.argmax(output,axis=1)\n",
    "\n",
    "#Define loss function\n",
    "loss = tf.reduce_mean(tf.nn.softmax_cross_entropy_with_logits(logits = y3, labels = y_labels))\n",
    "\n",
    "#Accuracy\n",
    "correct_labels = tf.equal(tf.argmax(y3, 1), tf.argmax(y_labels, 1))\n",
    "accuracy = tf.reduce_mean(tf.cast(correct_labels, tf.float32))\n",
    "\n",
    "train_step = tf.train.AdamOptimizer(1e-4).minimize(loss)\n",
    "\n",
    "# create a saver\n",
    "saver = tf.train.Saver()\n",
    "\n",
    "# initialize the graph\n",
    "init = tf.global_variables_initializer()\n"
   ]
  },
  {
   "cell_type": "code",
   "execution_count": null,
   "metadata": {
    "collapsed": true
   },
   "outputs": [],
   "source": []
  }
 ],
 "metadata": {
  "kernelspec": {
   "display_name": "Python 2",
   "language": "python",
   "name": "python2"
  },
  "language_info": {
   "codemirror_mode": {
    "name": "ipython",
    "version": 2
   },
   "file_extension": ".py",
   "mimetype": "text/x-python",
   "name": "python",
   "nbconvert_exporter": "python",
   "pygments_lexer": "ipython2",
   "version": "2.7.13"
  }
 },
 "nbformat": 4,
 "nbformat_minor": 2
}
